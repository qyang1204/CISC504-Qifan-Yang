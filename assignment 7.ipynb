{
 "cells": [
  {
   "cell_type": "code",
   "execution_count": 5,
   "metadata": {},
   "outputs": [
    {
     "name": "stdout",
     "output_type": "stream",
     "text": [
      "What is the mass in kg: 2\n",
      "What is the volume in L: 4\n",
      "0.5\n",
      "float on the surface of the water\n"
     ]
    }
   ],
   "source": [
    "mass = float(input('What is the mass in kg: '))\n",
    "volume = float(input('What is the volume in L: '))\n",
    "Density = mass/volume\n",
    "print (Density)\n",
    "if Density<=1: print ('float on the surface of the water')\n",
    "if Density>1: print ('sink into the water')"
   ]
  },
  {
   "cell_type": "code",
   "execution_count": 6,
   "metadata": {},
   "outputs": [
    {
     "name": "stdout",
     "output_type": "stream",
     "text": [
      "What is the mass in kg: 2\n",
      "What is the volume in L: 4\n",
      "0.5\n",
      "float on the surface of the water\n"
     ]
    }
   ],
   "source": [
    "mass = float(input('What is the mass in kg: '))\n",
    "volume = float(input('What is the volume in L: '))\n",
    "Density = mass/volume\n",
    "print (Density)\n",
    "if Density<=1: print ('float on the surface of the water')\n",
    "elif Density>1: print ('sink into the water')"
   ]
  },
  {
   "cell_type": "code",
   "execution_count": 8,
   "metadata": {},
   "outputs": [
    {
     "name": "stdout",
     "output_type": "stream",
     "text": [
      "What is the mass in kg: 4\n",
      "What is the volume in L: 2\n",
      "2.0\n",
      "sink into the water\n"
     ]
    }
   ],
   "source": [
    "mass = float(input('What is the mass in kg: '))\n",
    "volume = float(input('What is the volume in L: '))\n",
    "Density = mass/volume\n",
    "print (Density)\n",
    "if Density<=1: print ('float on the surface of the water')\n",
    "else: \n",
    "    print ('sink into the water')"
   ]
  },
  {
   "cell_type": "code",
   "execution_count": 9,
   "metadata": {},
   "outputs": [
    {
     "data": {
      "text/plain": [
       "False"
      ]
     },
     "execution_count": 9,
     "metadata": {},
     "output_type": "execute_result"
    }
   ],
   "source": [
    "1<0"
   ]
  },
  {
   "cell_type": "code",
   "execution_count": 23,
   "metadata": {},
   "outputs": [
    {
     "name": "stdout",
     "output_type": "stream",
     "text": [
      "this person is not found in the line\n",
      "find him immediately\n"
     ]
    }
   ],
   "source": [
    "reference = {'tom':5, 'jack':6, 'annie':7, 'lynn':8}\n",
    "try:\n",
    "   reference['sam']\n",
    "except :\n",
    "    print ('this person is not found in the line')\n",
    "else:\n",
    "    print ('Code executed successfully!')\n",
    "finally:\n",
    "    print ('find him immediately')"
   ]
  }
 ],
 "metadata": {
  "kernelspec": {
   "display_name": "Python 3",
   "language": "python",
   "name": "python3"
  },
  "language_info": {
   "codemirror_mode": {
    "name": "ipython",
    "version": 3
   },
   "file_extension": ".py",
   "mimetype": "text/x-python",
   "name": "python",
   "nbconvert_exporter": "python",
   "pygments_lexer": "ipython3",
   "version": "3.7.0"
  }
 },
 "nbformat": 4,
 "nbformat_minor": 2
}
