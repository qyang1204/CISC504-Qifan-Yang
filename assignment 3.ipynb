{
 "cells": [
  {
   "cell_type": "code",
   "execution_count": 18,
   "metadata": {},
   "outputs": [
    {
     "name": "stdout",
     "output_type": "stream",
     "text": [
      "sort [  1   3   4  10  21  26  33  43  45  51  56  65 106]\n",
      "mean= 35.69230769230769\n",
      "median= 33.0\n"
     ]
    }
   ],
   "source": [
    "list1=[26,1,43,21,33,106,45,4,10,3,51,56,65]\n",
    "import numpy as np\n",
    "print('sort',np.sort(list1))\n",
    "print('mean=',np.mean(list1))\n",
    "print('median=',np.median(list1))"
   ]
  }
 ],
 "metadata": {
  "kernelspec": {
   "display_name": "Python 3",
   "language": "python",
   "name": "python3"
  },
  "language_info": {
   "codemirror_mode": {
    "name": "ipython",
    "version": 3
   },
   "file_extension": ".py",
   "mimetype": "text/x-python",
   "name": "python",
   "nbconvert_exporter": "python",
   "pygments_lexer": "ipython3",
   "version": "3.7.0"
  }
 },
 "nbformat": 4,
 "nbformat_minor": 2
}
