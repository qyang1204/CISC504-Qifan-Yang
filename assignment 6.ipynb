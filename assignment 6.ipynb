{
 "cells": [
  {
   "cell_type": "code",
   "execution_count": 6,
   "metadata": {},
   "outputs": [
    {
     "data": {
      "text/plain": [
       "35"
      ]
     },
     "execution_count": 6,
     "metadata": {},
     "output_type": "execute_result"
    }
   ],
   "source": [
    "def sum(a,b,c,d,e,f):\n",
    "    return a+b+c+d+e+f\n",
    "sum(5,8,2,4,7,9)"
   ]
  },
  {
   "cell_type": "code",
   "execution_count": 8,
   "metadata": {},
   "outputs": [
    {
     "data": {
      "text/plain": [
       "720"
      ]
     },
     "execution_count": 8,
     "metadata": {},
     "output_type": "execute_result"
    }
   ],
   "source": [
    "def multiply(a,b,c,d,e):\n",
    "    return a*b*c*d*e\n",
    "multiply(4,3,5,6,2)"
   ]
  },
  {
   "cell_type": "code",
   "execution_count": 18,
   "metadata": {},
   "outputs": [
    {
     "name": "stdout",
     "output_type": "stream",
     "text": [
      "[[5 5 8 8 9 8]\n",
      " [7 7 5 3 5 7]\n",
      " [8 7 8 4 2 6]\n",
      " [9 9 7 3 1 4]]\n"
     ]
    },
    {
     "data": {
      "text/plain": [
       "array([[5, 5, 8, 8, 8, 9],\n",
       "       [3, 5, 5, 7, 7, 7],\n",
       "       [2, 4, 6, 7, 8, 8],\n",
       "       [1, 3, 4, 7, 9, 9]])"
      ]
     },
     "execution_count": 18,
     "metadata": {},
     "output_type": "execute_result"
    }
   ],
   "source": [
    "import numpy as np\n",
    "array_hw=np.array([[5,5,8,8,9,8],[7,7,5,3,5,7],[8,7,8,4,2,6],[9,9,7,3,1,4]])\n",
    "print(array_hw)\n",
    "np.sort(array_hw, axis=None)"
   ]
  },
  {
   "cell_type": "code",
   "execution_count": 30,
   "metadata": {},
   "outputs": [
    {
     "name": "stdout",
     "output_type": "stream",
     "text": [
      "[[5 5 8 8 9 8]\n",
      " [7 7 5 3 5 7]\n",
      " [8 7 8 4 2 6]\n",
      " [9 9 7 3 1 4]]\n",
      "\n",
      "[5 7 7 9]\n"
     ]
    }
   ],
   "source": [
    "import numpy as np\n",
    "array_hw=np.array([[5,5,8,8,9,8],[7,7,5,3,5,7],[8,7,8,4,2,6],[9,9,7,3,1,4]])\n",
    "print(array_hw)\n",
    "np.sort(array_hw, axis=0)\n",
    "print(\"\")\n",
    "print(np.sort(array_hw, axis=0)[...,1])"
   ]
  },
  {
   "cell_type": "code",
   "execution_count": 31,
   "metadata": {},
   "outputs": [
    {
     "name": "stdout",
     "output_type": "stream",
     "text": [
      "[[5 5 8 8 9 8]\n",
      " [7 7 5 3 5 7]\n",
      " [8 7 8 4 2 6]\n",
      " [9 9 7 3 1 4]]\n",
      "\n",
      "[2 4 6 7 8 8]\n"
     ]
    }
   ],
   "source": [
    "import numpy as np\n",
    "array_hw=np.array([[5,5,8,8,9,8],[7,7,5,3,5,7],[8,7,8,4,2,6],[9,9,7,3,1,4]])\n",
    "print(array_hw)\n",
    "np.sort(array_hw, axis=1)\n",
    "print(\"\")\n",
    "print(np.sort(array_hw, axis=1)[2,...])"
   ]
  },
  {
   "cell_type": "code",
   "execution_count": 35,
   "metadata": {},
   "outputs": [
    {
     "name": "stdout",
     "output_type": "stream",
     "text": [
      "[[5 5 8 8 9 8]\n",
      " [7 7 5 3 5 7]\n",
      " [8 7 8 4 2 6]\n",
      " [9 9 7 3 1 4]]\n",
      "\n",
      "[[7 7 5 3 5 7]\n",
      " [8 7 8 4 2 6]\n",
      " [9 9 7 3 1 4]]\n"
     ]
    }
   ],
   "source": [
    "import numpy as np\n",
    "array_hw=np.array([[5,5,8,8,9,8],[7,7,5,3,5,7],[8,7,8,4,2,6],[9,9,7,3,1,4]])\n",
    "print(array_hw)\n",
    "print(\"\")\n",
    "print(array_hw[1:,...])"
   ]
  },
  {
   "cell_type": "code",
   "execution_count": 34,
   "metadata": {},
   "outputs": [
    {
     "name": "stdout",
     "output_type": "stream",
     "text": [
      "[[5 5 8 8 9 8]\n",
      " [7 7 5 3 5 7]\n",
      " [8 7 8 4 2 6]\n",
      " [9 9 7 3 1 4]]\n",
      "\n",
      "[[8 8 9 8]\n",
      " [5 3 5 7]\n",
      " [8 4 2 6]\n",
      " [7 3 1 4]]\n"
     ]
    }
   ],
   "source": [
    "import numpy as np\n",
    "array_hw=np.array([[5,5,8,8,9,8],[7,7,5,3,5,7],[8,7,8,4,2,6],[9,9,7,3,1,4]])\n",
    "print(array_hw)\n",
    "print(\"\")\n",
    "print(array_hw[...,2:])"
   ]
  },
  {
   "cell_type": "code",
   "execution_count": 36,
   "metadata": {},
   "outputs": [
    {
     "name": "stdout",
     "output_type": "stream",
     "text": [
      "[[5 5 8 8 9 8]\n",
      " [7 7 5 3 5 7]\n",
      " [8 7 8 4 2 6]\n",
      " [9 9 7 3 1 4]]\n"
     ]
    }
   ],
   "source": [
    "import numpy as np\n",
    "array_hw=np.array([[5,5,8,8,9,8],[7,7,5,3,5,7],[8,7,8,4,2,6],[9,9,7,3,1,4]])\n",
    "print(array_hw)"
   ]
  },
  {
   "cell_type": "code",
   "execution_count": 37,
   "metadata": {},
   "outputs": [
    {
     "name": "stdout",
     "output_type": "stream",
     "text": [
      "[[5 5 8 8 9 8]\n",
      " [7 7 5 3 5 7]\n",
      " [8 7 8 4 2 6]\n",
      " [9 9 7 3 1 4]]\n",
      "\n",
      "Element sliced from third row and fourth column:\n",
      "4\n"
     ]
    }
   ],
   "source": [
    "import numpy as np\n",
    "array_hw=np.array([[5,5,8,8,9,8],[7,7,5,3,5,7],[8,7,8,4,2,6],[9,9,7,3,1,4]])\n",
    "print(array_hw)\n",
    "print('')\n",
    "print('Element sliced from third row and fourth column:')\n",
    "print(array_hw[2,3])"
   ]
  },
  {
   "cell_type": "code",
   "execution_count": 38,
   "metadata": {},
   "outputs": [
    {
     "name": "stdout",
     "output_type": "stream",
     "text": [
      "[[5 5 8 8 9 8]\n",
      " [7 7 5 3 5 7]\n",
      " [8 7 8 4 2 6]\n",
      " [9 9 7 3 1 4]]\n",
      "\n"
     ]
    },
    {
     "data": {
      "text/plain": [
       "145"
      ]
     },
     "execution_count": 38,
     "metadata": {},
     "output_type": "execute_result"
    }
   ],
   "source": [
    "import numpy as np\n",
    "array_hw=np.array([[5,5,8,8,9,8],[7,7,5,3,5,7],[8,7,8,4,2,6],[9,9,7,3,1,4]])\n",
    "print(array_hw)\n",
    "print('')\n",
    "array_hw.sum()"
   ]
  }
 ],
 "metadata": {
  "kernelspec": {
   "display_name": "Python 3",
   "language": "python",
   "name": "python3"
  },
  "language_info": {
   "codemirror_mode": {
    "name": "ipython",
    "version": 3
   },
   "file_extension": ".py",
   "mimetype": "text/x-python",
   "name": "python",
   "nbconvert_exporter": "python",
   "pygments_lexer": "ipython3",
   "version": "3.7.0"
  }
 },
 "nbformat": 4,
 "nbformat_minor": 2
}
