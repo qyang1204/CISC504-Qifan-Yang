{
 "cells": [
  {
   "cell_type": "code",
   "execution_count": 11,
   "metadata": {},
   "outputs": [
    {
     "data": {
      "application/vnd.jupyter.widget-view+json": {
       "model_id": "eefa280566204a428c96ff0c9a320774",
       "version_major": 2,
       "version_minor": 0
      },
      "text/plain": [
       "Turtle()"
      ]
     },
     "metadata": {},
     "output_type": "display_data"
    }
   ],
   "source": [
    "from mobilechelonian import Turtle\n",
    "t=Turtle()\n",
    "def circle_object(radius,angle):\n",
    "    t.circle(radius,angle)\n",
    "circle_object(25,360)\n",
    "t.home()\n",
    "t.right(90)\n",
    "t.forward(20)\n",
    "t.left(90)\n",
    "t.forward(40)\n",
    "t.left(180)\n",
    "t.forward(80)\n",
    "t.left(180)\n",
    "t.forward(40)\n",
    "t.right(90)\n",
    "t.forward(20)\n",
    "t.left(45)\n",
    "t.forward(60)\n",
    "t.left(180)\n",
    "t.forward(60)\n",
    "t.left(90)\n",
    "t.forward(60)\n",
    "t.left(180)\n",
    "t.forward(60)\n",
    "t.home()"
   ]
  }
 ],
 "metadata": {
  "kernelspec": {
   "display_name": "Python 3",
   "language": "python",
   "name": "python3"
  },
  "language_info": {
   "codemirror_mode": {
    "name": "ipython",
    "version": 3
   },
   "file_extension": ".py",
   "mimetype": "text/x-python",
   "name": "python",
   "nbconvert_exporter": "python",
   "pygments_lexer": "ipython3",
   "version": "3.6.5"
  }
 },
 "nbformat": 4,
 "nbformat_minor": 1
}
