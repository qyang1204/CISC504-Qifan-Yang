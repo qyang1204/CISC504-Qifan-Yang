{
 "cells": [
  {
   "cell_type": "code",
   "execution_count": 3,
   "metadata": {},
   "outputs": [
    {
     "name": "stdout",
     "output_type": "stream",
     "text": [
      "Please enter an amount you pay:5\n",
      "3.0 dollars\n",
      "1.0 quarters\n",
      "1.0 dimes\n",
      "0.0 nickles\n",
      "0.0 pennies\n"
     ]
    }
   ],
   "source": [
    "\n",
    "t=int(input('Please enter an amount you pay:'))\n",
    "price=1.65\n",
    "c=(t-price)*100\n",
    "print(c//100, \"dollars\")\n",
    "c = c%100\n",
    "print(c//25, \"quarters\")\n",
    "c = c%25\n",
    "print(c//10, \"dimes\")\n",
    "c = c%10\n",
    "print(c//5, \"nickles\")\n",
    "c = c%5\n",
    "print(c//1, \"pennies\")"
   ]
  },
  {
   "cell_type": "code",
   "execution_count": 7,
   "metadata": {},
   "outputs": [
    {
     "name": "stdout",
     "output_type": "stream",
     "text": [
      "i love python\n",
      "I-LOVE-PYTHON\n"
     ]
    }
   ],
   "source": [
    "string=str(input())\n",
    "string=string.replace(' ','-').upper()\n",
    "print(string)"
   ]
  },
  {
   "cell_type": "code",
   "execution_count": 16,
   "metadata": {},
   "outputs": [
    {
     "name": "stdout",
     "output_type": "stream",
     "text": [
      "interest:0.2\n",
      "first initial:-10000\n",
      "year 1 end payment:124\n",
      "year 2 end payment:123\n",
      "year 3 end payment:534\n",
      "year 4 end payment:34\n",
      "year 5 end payment:235\n",
      "Net Present Value(npv) :  -9391.384387860082\n",
      "the program is not worth to invest\n"
     ]
    }
   ],
   "source": [
    "import numpy as np \n",
    "i=float(input('interest:'))\n",
    "p0=float(input('first initial:'))\n",
    "p1=float(input('year 1 end payment:'))\n",
    "p2=float(input('year 2 end payment:'))\n",
    "p3=float(input('year 3 end payment:'))\n",
    "p4=float(input('year 4 end payment:'))\n",
    "p5=float(input('year 5 end payment:'))\n",
    "npv =  np.npv(i,[p0,p1,p2,p3,p4,p5]) \n",
    "print(\"Net Present Value(npv) : \", npv)\n",
    "if npv>0: print ('the program is worth to invest')\n",
    "else: \n",
    "    print ('the program is not worth to invest')"
   ]
  }
 ],
 "metadata": {
  "kernelspec": {
   "display_name": "Python 3",
   "language": "python",
   "name": "python3"
  },
  "language_info": {
   "codemirror_mode": {
    "name": "ipython",
    "version": 3
   },
   "file_extension": ".py",
   "mimetype": "text/x-python",
   "name": "python",
   "nbconvert_exporter": "python",
   "pygments_lexer": "ipython3",
   "version": "3.7.0"
  }
 },
 "nbformat": 4,
 "nbformat_minor": 2
}
