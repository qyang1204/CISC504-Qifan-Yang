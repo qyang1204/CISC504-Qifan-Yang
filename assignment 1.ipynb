{
 "cells": [
  {
   "cell_type": "code",
   "execution_count": 5,
   "metadata": {},
   "outputs": [
    {
     "name": "stdout",
     "output_type": "stream",
     "text": [
      "14\n",
      "this is a calculation\n"
     ]
    }
   ],
   "source": [
    "print (12 + 2)\n",
    "print('this is a calculation')"
   ]
  },
  {
   "cell_type": "code",
   "execution_count": 6,
   "metadata": {},
   "outputs": [
    {
     "name": "stdout",
     "output_type": "stream",
     "text": [
      "122\n",
      "adding quotation mark makes the number become texts\n"
     ]
    }
   ],
   "source": [
    "print ('12' + '2')\n",
    "print('adding quotation mark makes the number become texts')"
   ]
  },
  {
   "cell_type": "code",
   "execution_count": 35,
   "metadata": {},
   "outputs": [
    {
     "name": "stdout",
     "output_type": "stream",
     "text": [
      "numeric variables\n",
      "what is the return for next 5 years with the principle of $1000 and interst of 2%\n",
      "1000.0\n",
      "1020.0\n",
      "1040.4\n",
      "1061.208\n",
      "1082.43216\n"
     ]
    }
   ],
   "source": [
    "print('numeric variables')\n",
    "print('what is the return for next 5 years with the principle of $1000 and interst of 2%')\n",
    "for i in range(5):\n",
    "    print(1000*pow(1.02,i))"
   ]
  },
  {
   "cell_type": "code",
   "execution_count": 44,
   "metadata": {},
   "outputs": [
    {
     "name": "stdout",
     "output_type": "stream",
     "text": [
      "we are...family.\n"
     ]
    }
   ],
   "source": [
    "w = \"we are...\"\n",
    "e = \"family.\"\n",
    "print(w + e)"
   ]
  }
 ],
 "metadata": {
  "kernelspec": {
   "display_name": "Python 3",
   "language": "python",
   "name": "python3"
  },
  "language_info": {
   "codemirror_mode": {
    "name": "ipython",
    "version": 3
   },
   "file_extension": ".py",
   "mimetype": "text/x-python",
   "name": "python",
   "nbconvert_exporter": "python",
   "pygments_lexer": "ipython3",
   "version": "3.7.0"
  }
 },
 "nbformat": 4,
 "nbformat_minor": 2
}
